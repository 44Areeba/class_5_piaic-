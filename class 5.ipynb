{
 "cells": [
  {
   "cell_type": "code",
   "execution_count": 4,
   "id": "d272ea33",
   "metadata": {},
   "outputs": [],
   "source": [
    "students=[]\n",
    "# list initialize\n"
   ]
  },
  {
   "cell_type": "code",
   "execution_count": 5,
   "id": "694dcd01",
   "metadata": {},
   "outputs": [
    {
     "data": {
      "text/plain": [
       "list"
      ]
     },
     "execution_count": 5,
     "metadata": {},
     "output_type": "execute_result"
    }
   ],
   "source": [
    "type(students)"
   ]
  },
  {
   "cell_type": "code",
   "execution_count": 6,
   "id": "21e1b8be",
   "metadata": {},
   "outputs": [
    {
     "data": {
      "text/plain": [
       "0"
      ]
     },
     "execution_count": 6,
     "metadata": {},
     "output_type": "execute_result"
    }
   ],
   "source": [
    "len(students)"
   ]
  },
  {
   "cell_type": "code",
   "execution_count": 7,
   "id": "c1b7f109",
   "metadata": {},
   "outputs": [],
   "source": [
    "students=[\"Asad\",\"Ali\",\"Daad\",\"Hassan\"]"
   ]
  },
  {
   "cell_type": "code",
   "execution_count": 8,
   "id": "59c351f3",
   "metadata": {},
   "outputs": [
    {
     "data": {
      "text/plain": [
       "['Asad', 'Ali', 'Daad', 'Hassan']"
      ]
     },
     "execution_count": 8,
     "metadata": {},
     "output_type": "execute_result"
    }
   ],
   "source": [
    "students"
   ]
  },
  {
   "cell_type": "code",
   "execution_count": 9,
   "id": "c0ff6be2",
   "metadata": {},
   "outputs": [
    {
     "data": {
      "text/plain": [
       "'Daad'"
      ]
     },
     "execution_count": 9,
     "metadata": {},
     "output_type": "execute_result"
    }
   ],
   "source": [
    "students[2]"
   ]
  },
  {
   "cell_type": "code",
   "execution_count": 10,
   "id": "07559781",
   "metadata": {},
   "outputs": [
    {
     "data": {
      "text/plain": [
       "'Daad'"
      ]
     },
     "execution_count": 10,
     "metadata": {},
     "output_type": "execute_result"
    }
   ],
   "source": [
    "students[-2]"
   ]
  },
  {
   "cell_type": "code",
   "execution_count": 11,
   "id": "3d9007de",
   "metadata": {},
   "outputs": [],
   "source": [
    "misclist=[\"Areeba\",12,True,23.7,[11,22,33]]"
   ]
  },
  {
   "cell_type": "code",
   "execution_count": 12,
   "id": "dd693493",
   "metadata": {},
   "outputs": [
    {
     "data": {
      "text/plain": [
       "23.7"
      ]
     },
     "execution_count": 12,
     "metadata": {},
     "output_type": "execute_result"
    }
   ],
   "source": [
    "misclist[3]"
   ]
  },
  {
   "cell_type": "markdown",
   "id": "2300a609",
   "metadata": {},
   "source": []
  },
  {
   "cell_type": "code",
   "execution_count": 13,
   "id": "43da7474",
   "metadata": {},
   "outputs": [
    {
     "data": {
      "text/plain": [
       "[11, 22, 33]"
      ]
     },
     "execution_count": 13,
     "metadata": {},
     "output_type": "execute_result"
    }
   ],
   "source": [
    "misclist[-1]"
   ]
  },
  {
   "cell_type": "code",
   "execution_count": 17,
   "id": "47eb72b3",
   "metadata": {},
   "outputs": [
    {
     "data": {
      "text/plain": [
       "22"
      ]
     },
     "execution_count": 17,
     "metadata": {},
     "output_type": "execute_result"
    }
   ],
   "source": [
    "misclist[-1][-2]"
   ]
  },
  {
   "cell_type": "code",
   "execution_count": 18,
   "id": "815d7fb3",
   "metadata": {},
   "outputs": [
    {
     "data": {
      "text/plain": [
       "True"
      ]
     },
     "execution_count": 18,
     "metadata": {},
     "output_type": "execute_result"
    }
   ],
   "source": [
    "misclist[-3]"
   ]
  },
  {
   "cell_type": "code",
   "execution_count": 19,
   "id": "6e9e9e5e",
   "metadata": {},
   "outputs": [],
   "source": [
    "misclist[2]=False"
   ]
  },
  {
   "cell_type": "code",
   "execution_count": 21,
   "id": "c69f9516",
   "metadata": {},
   "outputs": [
    {
     "data": {
      "text/plain": [
       "['Areeba', 12, False, 23.7, [11, 22, 33]]"
      ]
     },
     "execution_count": 21,
     "metadata": {},
     "output_type": "execute_result"
    }
   ],
   "source": [
    "misclist"
   ]
  },
  {
   "cell_type": "code",
   "execution_count": 23,
   "id": "56fd21b2",
   "metadata": {},
   "outputs": [],
   "source": [
    "misclist[2]=\"Hello\""
   ]
  },
  {
   "cell_type": "code",
   "execution_count": 24,
   "id": "dcc78292",
   "metadata": {},
   "outputs": [
    {
     "data": {
      "text/plain": [
       "['Areeba', 12, 'Hello', 23.7, [11, 22, 33]]"
      ]
     },
     "execution_count": 24,
     "metadata": {},
     "output_type": "execute_result"
    }
   ],
   "source": [
    "misclist"
   ]
  },
  {
   "cell_type": "code",
   "execution_count": 25,
   "id": "06b04b0b",
   "metadata": {},
   "outputs": [
    {
     "data": {
      "text/plain": [
       "['Areeba', 12, 'Hello', 23.7, [11, 22, 33]]"
      ]
     },
     "execution_count": 25,
     "metadata": {},
     "output_type": "execute_result"
    }
   ],
   "source": [
    "misclist"
   ]
  },
  {
   "cell_type": "code",
   "execution_count": 27,
   "id": "918fb2cd",
   "metadata": {},
   "outputs": [],
   "source": [
    "misclist.append(1000)"
   ]
  },
  {
   "cell_type": "markdown",
   "id": "556e8836",
   "metadata": {},
   "source": [
    "misclist"
   ]
  },
  {
   "cell_type": "code",
   "execution_count": 30,
   "id": "7e15e4be",
   "metadata": {},
   "outputs": [
    {
     "data": {
      "text/plain": [
       "['Areeba', 12, 'Hello', 23.7, [11, 22, 33], 1000, 1000]"
      ]
     },
     "execution_count": 30,
     "metadata": {},
     "output_type": "execute_result"
    }
   ],
   "source": [
    "misclist"
   ]
  },
  {
   "cell_type": "code",
   "execution_count": 31,
   "id": "7ced83aa",
   "metadata": {},
   "outputs": [
    {
     "data": {
      "text/plain": [
       "['Asad', 'Ali', 'Daad', 'Hassan']"
      ]
     },
     "execution_count": 31,
     "metadata": {},
     "output_type": "execute_result"
    }
   ],
   "source": [
    "students"
   ]
  },
  {
   "cell_type": "code",
   "execution_count": 33,
   "id": "9eda2e5f",
   "metadata": {},
   "outputs": [],
   "source": [
    "students.insert(2,\"Rehan\")"
   ]
  },
  {
   "cell_type": "code",
   "execution_count": 34,
   "id": "21d61b3c",
   "metadata": {},
   "outputs": [
    {
     "data": {
      "text/plain": [
       "['Asad', 'Ali', 'Rehan', 'Daad', 'Hassan']"
      ]
     },
     "execution_count": 34,
     "metadata": {},
     "output_type": "execute_result"
    }
   ],
   "source": [
    "students"
   ]
  },
  {
   "cell_type": "code",
   "execution_count": 35,
   "id": "0b77e28d",
   "metadata": {},
   "outputs": [],
   "source": [
    "students.insert(2,[\"Rehan\",\"Farhan\",\"Rayyan\"])"
   ]
  },
  {
   "cell_type": "code",
   "execution_count": 36,
   "id": "d9accf7b",
   "metadata": {},
   "outputs": [
    {
     "data": {
      "text/plain": [
       "['Asad', 'Ali', ['Rehan', 'Farhan', 'Rayyan'], 'Rehan', 'Daad', 'Hassan']"
      ]
     },
     "execution_count": 36,
     "metadata": {},
     "output_type": "execute_result"
    }
   ],
   "source": [
    "students"
   ]
  },
  {
   "cell_type": "code",
   "execution_count": null,
   "id": "16ddfd30",
   "metadata": {},
   "outputs": [],
   "source": [
    "## Delete or remove members from list\n",
    "delete\n",
    "remove \n",
    "pop"
   ]
  },
  {
   "cell_type": "code",
   "execution_count": 37,
   "id": "1becdec8",
   "metadata": {},
   "outputs": [
    {
     "data": {
      "text/plain": [
       "['Areeba', 12, 23.7, [11, 22, 33], 1000, 1000]"
      ]
     },
     "execution_count": 37,
     "metadata": {},
     "output_type": "execute_result"
    }
   ],
   "source": [
    "del misclist[2]\n",
    "misclist"
   ]
  },
  {
   "cell_type": "code",
   "execution_count": 38,
   "id": "ea989a03",
   "metadata": {},
   "outputs": [
    {
     "data": {
      "text/plain": [
       "['Asad', 'Ali', ['Rehan', 'Farhan', 'Rayyan'], 'Daad', 'Hassan']"
      ]
     },
     "execution_count": 38,
     "metadata": {},
     "output_type": "execute_result"
    }
   ],
   "source": [
    "students.remove('Rehan')\n",
    "students"
   ]
  },
  {
   "cell_type": "code",
   "execution_count": 40,
   "id": "613880d5",
   "metadata": {},
   "outputs": [
    {
     "data": {
      "text/plain": [
       "['Asad', 'Ali', 'Daad', 'Hassan']"
      ]
     },
     "execution_count": 40,
     "metadata": {},
     "output_type": "execute_result"
    }
   ],
   "source": [
    "del students[2]\n",
    "students"
   ]
  },
  {
   "cell_type": "code",
   "execution_count": 45,
   "id": "23f01417",
   "metadata": {},
   "outputs": [
    {
     "data": {
      "text/plain": [
       "['Asad', 'maryam', 'Areeba', 'Ali', 'Ali', 'Ali', 'Daad', 'Hassan', 'areeba']"
      ]
     },
     "execution_count": 45,
     "metadata": {},
     "output_type": "execute_result"
    }
   ],
   "source": [
    "students.insert(1,'maryam')\n",
    "students"
   ]
  },
  {
   "cell_type": "code",
   "execution_count": 46,
   "id": "dd0dd151",
   "metadata": {},
   "outputs": [
    {
     "data": {
      "text/plain": [
       "['Asad', 'maryam', 'Areeba', 'Ali', 'Ali', 'Daad', 'Hassan', 'areeba']"
      ]
     },
     "execution_count": 46,
     "metadata": {},
     "output_type": "execute_result"
    }
   ],
   "source": [
    "students.remove(\"Ali\")\n",
    "students"
   ]
  },
  {
   "cell_type": "code",
   "execution_count": 47,
   "id": "0dfc7d1e",
   "metadata": {},
   "outputs": [
    {
     "data": {
      "text/plain": [
       "['Asad', 'maryam', 'Areeba', 'Ali', 'Daad', 'Hassan', 'areeba']"
      ]
     },
     "execution_count": 47,
     "metadata": {},
     "output_type": "execute_result"
    }
   ],
   "source": [
    "students.remove(\"Ali\")\n",
    "students"
   ]
  },
  {
   "cell_type": "code",
   "execution_count": 48,
   "id": "b8086a8d",
   "metadata": {},
   "outputs": [
    {
     "data": {
      "text/plain": [
       "['Asad', 'maryam', 'Areeba', 'Daad', 'Hassan', 'areeba']"
      ]
     },
     "execution_count": 48,
     "metadata": {},
     "output_type": "execute_result"
    }
   ],
   "source": [
    "students.remove(\"Ali\")\n",
    "students"
   ]
  },
  {
   "cell_type": "code",
   "execution_count": 49,
   "id": "b23806d5",
   "metadata": {},
   "outputs": [
    {
     "data": {
      "text/plain": [
       "'areeba'"
      ]
     },
     "execution_count": 49,
     "metadata": {},
     "output_type": "execute_result"
    }
   ],
   "source": [
    "students[5]"
   ]
  },
  {
   "cell_type": "code",
   "execution_count": 50,
   "id": "752749c5",
   "metadata": {},
   "outputs": [
    {
     "data": {
      "text/plain": [
       "3"
      ]
     },
     "execution_count": 50,
     "metadata": {},
     "output_type": "execute_result"
    }
   ],
   "source": [
    "students.index(\"Daad\")"
   ]
  },
  {
   "cell_type": "code",
   "execution_count": 51,
   "id": "71cccaaf",
   "metadata": {},
   "outputs": [
    {
     "data": {
      "text/plain": [
       "['Asad', 'maryam', 'Areeba', 'Daad', 'Hassan', 'areeba']"
      ]
     },
     "execution_count": 51,
     "metadata": {},
     "output_type": "execute_result"
    }
   ],
   "source": [
    "students"
   ]
  },
  {
   "cell_type": "code",
   "execution_count": 52,
   "id": "6717beaa",
   "metadata": {},
   "outputs": [
    {
     "data": {
      "text/plain": [
       "'areeba'"
      ]
     },
     "execution_count": 52,
     "metadata": {},
     "output_type": "execute_result"
    }
   ],
   "source": [
    "students.pop()"
   ]
  },
  {
   "cell_type": "code",
   "execution_count": 53,
   "id": "2840c087",
   "metadata": {},
   "outputs": [
    {
     "name": "stdout",
     "output_type": "stream",
     "text": [
      "['Asad', 'maryam', 'Areeba', 'Daad']\n"
     ]
    },
    {
     "data": {
      "text/plain": [
       "'Hassan'"
      ]
     },
     "execution_count": 53,
     "metadata": {},
     "output_type": "execute_result"
    }
   ],
   "source": [
    "popped_val = students.pop()\n",
    "print(students)\n",
    "popped_val"
   ]
  },
  {
   "cell_type": "code",
   "execution_count": 54,
   "id": "92289f02",
   "metadata": {},
   "outputs": [
    {
     "data": {
      "text/plain": [
       "[]"
      ]
     },
     "execution_count": 54,
     "metadata": {},
     "output_type": "execute_result"
    }
   ],
   "source": [
    "misclist.clear()\n",
    "misclist"
   ]
  },
  {
   "cell_type": "code",
   "execution_count": 3,
   "id": "54ae32f8",
   "metadata": {},
   "outputs": [
    {
     "data": {
      "text/plain": [
       "['Asad', 'Ali', ['Rehan', 'Farhan', 'Rayyan']]"
      ]
     },
     "execution_count": 3,
     "metadata": {},
     "output_type": "execute_result"
    }
   ],
   "source": [
    "## copying a list\n",
    "# copy\n",
    "# list a= listb\n",
    "\n",
    "\n",
    "students=['Asad','Ali',['Rehan','Farhan','Rayyan']]\n",
    "students"
   ]
  },
  {
   "cell_type": "code",
   "execution_count": 5,
   "id": "028e80a6",
   "metadata": {},
   "outputs": [
    {
     "data": {
      "text/plain": [
       "['Asad', 'Ali', ['Rehan', 'Farhan', 'Rayyan']]"
      ]
     },
     "execution_count": 5,
     "metadata": {},
     "output_type": "execute_result"
    }
   ],
   "source": [
    "newst=students\n",
    "newst"
   ]
  },
  {
   "cell_type": "code",
   "execution_count": 6,
   "id": "e9804fa3",
   "metadata": {},
   "outputs": [
    {
     "data": {
      "text/plain": [
       "['Ali', ['Rehan', 'Farhan', 'Rayyan']]"
      ]
     },
     "execution_count": 6,
     "metadata": {},
     "output_type": "execute_result"
    }
   ],
   "source": [
    "students.remove(\"Asad\")\n",
    "students"
   ]
  },
  {
   "cell_type": "code",
   "execution_count": 7,
   "id": "908bdc7a",
   "metadata": {},
   "outputs": [
    {
     "data": {
      "text/plain": [
       "['Ali', ['Rehan', 'Farhan', 'Rayyan']]"
      ]
     },
     "execution_count": 7,
     "metadata": {},
     "output_type": "execute_result"
    }
   ],
   "source": [
    "newst"
   ]
  },
  {
   "cell_type": "code",
   "execution_count": 10,
   "id": "1e90801e",
   "metadata": {},
   "outputs": [
    {
     "data": {
      "text/plain": [
       "[['Rehan', 'Farhan', 'Rayyan'], 'Asad']"
      ]
     },
     "execution_count": 10,
     "metadata": {},
     "output_type": "execute_result"
    }
   ],
   "source": [
    "students.append(\"Asad\")\n",
    "students"
   ]
  },
  {
   "cell_type": "code",
   "execution_count": 11,
   "id": "53b3123b",
   "metadata": {},
   "outputs": [
    {
     "data": {
      "text/plain": [
       "[['Rehan', 'Farhan', 'Rayyan'], 'Asad']"
      ]
     },
     "execution_count": 11,
     "metadata": {},
     "output_type": "execute_result"
    }
   ],
   "source": [
    "newst"
   ]
  },
  {
   "cell_type": "code",
   "execution_count": 14,
   "id": "146afa7b",
   "metadata": {},
   "outputs": [
    {
     "data": {
      "text/plain": [
       "[['Rehan', 'Farhan', 'Rayyan'], 'Asad', 'Maria', 'Maria', 'Maria']"
      ]
     },
     "execution_count": 14,
     "metadata": {},
     "output_type": "execute_result"
    }
   ],
   "source": [
    "newst.append(\"Maria\")\n",
    "newst"
   ]
  },
  {
   "cell_type": "code",
   "execution_count": 17,
   "id": "79764e60",
   "metadata": {},
   "outputs": [
    {
     "data": {
      "text/plain": [
       "[['Rehan', 'Farhan', 'Rayyan'], 'Asad']"
      ]
     },
     "execution_count": 17,
     "metadata": {},
     "output_type": "execute_result"
    }
   ],
   "source": [
    "newst.remove(\"Maria\")\n",
    "newst"
   ]
  },
  {
   "cell_type": "code",
   "execution_count": 18,
   "id": "fbe67335",
   "metadata": {},
   "outputs": [
    {
     "data": {
      "text/plain": [
       "[['Rehan', 'Farhan', 'Rayyan'], 'Asad', 'Maryam']"
      ]
     },
     "execution_count": 18,
     "metadata": {},
     "output_type": "execute_result"
    }
   ],
   "source": [
    "newst.append(\"Maryam\")\n",
    "newst"
   ]
  },
  {
   "cell_type": "code",
   "execution_count": 41,
   "id": "fcd41dfb",
   "metadata": {},
   "outputs": [
    {
     "data": {
      "text/plain": [
       "[['Rehan', 'Farhan', 'Rayyan'], 'Maryam']"
      ]
     },
     "execution_count": 41,
     "metadata": {},
     "output_type": "execute_result"
    }
   ],
   "source": [
    "students"
   ]
  },
  {
   "cell_type": "code",
   "execution_count": 42,
   "id": "7b5c9901",
   "metadata": {},
   "outputs": [
    {
     "data": {
      "text/plain": [
       "[['Rehan', 'Farhan', 'Rayyan'], 'Maryam']"
      ]
     },
     "execution_count": 42,
     "metadata": {},
     "output_type": "execute_result"
    }
   ],
   "source": [
    "myst=students.copy()\n",
    "myst"
   ]
  },
  {
   "cell_type": "code",
   "execution_count": 43,
   "id": "91ec3749",
   "metadata": {},
   "outputs": [],
   "source": [
    "yourst=students[:]"
   ]
  },
  {
   "cell_type": "code",
   "execution_count": 44,
   "id": "8c2977d4",
   "metadata": {},
   "outputs": [
    {
     "data": {
      "text/plain": [
       "0"
      ]
     },
     "execution_count": 44,
     "metadata": {},
     "output_type": "execute_result"
    }
   ],
   "source": [
    "students.count(\"Ali\")"
   ]
  },
  {
   "cell_type": "code",
   "execution_count": 48,
   "id": "b3c0b4c4",
   "metadata": {},
   "outputs": [
    {
     "data": {
      "text/plain": [
       "1"
      ]
     },
     "execution_count": 48,
     "metadata": {},
     "output_type": "execute_result"
    }
   ],
   "source": [
    "students.count(\"Maryam\")"
   ]
  },
  {
   "cell_type": "code",
   "execution_count": 49,
   "id": "a3d58cd4",
   "metadata": {},
   "outputs": [],
   "source": [
    "name=\"Shahzad Ahasan\""
   ]
  },
  {
   "cell_type": "code",
   "execution_count": 50,
   "id": "47c2417a",
   "metadata": {},
   "outputs": [
    {
     "data": {
      "text/plain": [
       "'h'"
      ]
     },
     "execution_count": 50,
     "metadata": {},
     "output_type": "execute_result"
    }
   ],
   "source": [
    "name[3]"
   ]
  },
  {
   "cell_type": "code",
   "execution_count": 51,
   "id": "5237907d",
   "metadata": {},
   "outputs": [
    {
     "data": {
      "text/plain": [
       "0"
      ]
     },
     "execution_count": 51,
     "metadata": {},
     "output_type": "execute_result"
    }
   ],
   "source": [
    "name.count('H')"
   ]
  },
  {
   "cell_type": "code",
   "execution_count": 52,
   "id": "f5e58809",
   "metadata": {},
   "outputs": [
    {
     "data": {
      "text/plain": [
       "[['Rehan', 'Farhan', 'Rayyan'], 'Maryam', 'hello', 'python']"
      ]
     },
     "execution_count": 52,
     "metadata": {},
     "output_type": "execute_result"
    }
   ],
   "source": [
    "students+[\"hello\",\"python\"]"
   ]
  },
  {
   "cell_type": "code",
   "execution_count": 53,
   "id": "5b68a522",
   "metadata": {},
   "outputs": [
    {
     "data": {
      "text/plain": [
       "[['Rehan', 'Farhan', 'Rayyan'], 'Maryam', 'Asad', 'Ali']"
      ]
     },
     "execution_count": 53,
     "metadata": {},
     "output_type": "execute_result"
    }
   ],
   "source": [
    "students+[\"Asad\",\"Ali\"]"
   ]
  },
  {
   "cell_type": "code",
   "execution_count": 55,
   "id": "161e7cae",
   "metadata": {},
   "outputs": [],
   "source": [
    "students.extend(['a',\"b\",'c'])"
   ]
  },
  {
   "cell_type": "code",
   "execution_count": 56,
   "id": "71954f5f",
   "metadata": {},
   "outputs": [
    {
     "data": {
      "text/plain": [
       "[['Rehan', 'Farhan', 'Rayyan'], 'Maryam', 'a', 'b', 'c']"
      ]
     },
     "execution_count": 56,
     "metadata": {},
     "output_type": "execute_result"
    }
   ],
   "source": [
    "students"
   ]
  },
  {
   "cell_type": "code",
   "execution_count": 57,
   "id": "b5a5eb89",
   "metadata": {},
   "outputs": [
    {
     "data": {
      "text/plain": [
       "[['Rehan', 'Farhan', 'Rayyan'],\n",
       " 'Maryam',\n",
       " 'a',\n",
       " 'b',\n",
       " 'c',\n",
       " 'P',\n",
       " 'a',\n",
       " 'k',\n",
       " 'i',\n",
       " 's',\n",
       " 't',\n",
       " 'a',\n",
       " 'n']"
      ]
     },
     "execution_count": 57,
     "metadata": {},
     "output_type": "execute_result"
    }
   ],
   "source": [
    "students.extend(\"Pakistan\")\n",
    "students"
   ]
  },
  {
   "cell_type": "code",
   "execution_count": 58,
   "id": "50026dde",
   "metadata": {},
   "outputs": [
    {
     "ename": "TypeError",
     "evalue": "'int' object is not iterable",
     "output_type": "error",
     "traceback": [
      "\u001b[1;31m---------------------------------------------------------------------------\u001b[0m",
      "\u001b[1;31mTypeError\u001b[0m                                 Traceback (most recent call last)",
      "\u001b[1;32m<ipython-input-58-7a704489d610>\u001b[0m in \u001b[0;36m<module>\u001b[1;34m\u001b[0m\n\u001b[1;32m----> 1\u001b[1;33m \u001b[0mstudents\u001b[0m\u001b[1;33m.\u001b[0m\u001b[0mextend\u001b[0m\u001b[1;33m(\u001b[0m\u001b[1;36m55555\u001b[0m\u001b[1;33m)\u001b[0m\u001b[1;33m\u001b[0m\u001b[1;33m\u001b[0m\u001b[0m\n\u001b[0m",
      "\u001b[1;31mTypeError\u001b[0m: 'int' object is not iterable"
     ]
    }
   ],
   "source": [
    "students.extend(55555)"
   ]
  },
  {
   "cell_type": "code",
   "execution_count": 59,
   "id": "b4a0a2d8",
   "metadata": {},
   "outputs": [
    {
     "data": {
      "text/plain": [
       "[['Rehan', 'Farhan', 'Rayyan'],\n",
       " 'Maryam',\n",
       " 'a',\n",
       " 'b',\n",
       " 'c',\n",
       " 'P',\n",
       " 'a',\n",
       " 'k',\n",
       " 'i',\n",
       " 's',\n",
       " 't',\n",
       " 'a',\n",
       " 'n',\n",
       " '5',\n",
       " '5',\n",
       " '5',\n",
       " '5',\n",
       " '5']"
      ]
     },
     "execution_count": 59,
     "metadata": {},
     "output_type": "execute_result"
    }
   ],
   "source": [
    "students.extend('55555')\n",
    "students"
   ]
  },
  {
   "cell_type": "code",
   "execution_count": 62,
   "id": "0b1c92ac",
   "metadata": {},
   "outputs": [],
   "source": [
    "a=[22,33]"
   ]
  },
  {
   "cell_type": "code",
   "execution_count": 64,
   "id": "2d9ff1d4",
   "metadata": {},
   "outputs": [
    {
     "data": {
      "text/plain": [
       "[22, 33, [44, 55]]"
      ]
     },
     "execution_count": 64,
     "metadata": {},
     "output_type": "execute_result"
    }
   ],
   "source": [
    "a.append([44,55])\n",
    "a"
   ]
  },
  {
   "cell_type": "code",
   "execution_count": 65,
   "id": "fa094d6b",
   "metadata": {},
   "outputs": [],
   "source": [
    "z=['a','g','y']"
   ]
  },
  {
   "cell_type": "code",
   "execution_count": 66,
   "id": "5b340570",
   "metadata": {},
   "outputs": [
    {
     "data": {
      "text/plain": [
       "[22, 33, [44, 55], 'a', 'g', 'y']"
      ]
     },
     "execution_count": 66,
     "metadata": {},
     "output_type": "execute_result"
    }
   ],
   "source": [
    "a.extend(z)\n",
    "a"
   ]
  },
  {
   "cell_type": "code",
   "execution_count": null,
   "id": "81806ab2",
   "metadata": {},
   "outputs": [],
   "source": [
    "### slicing #######\n",
    "\n"
   ]
  },
  {
   "cell_type": "code",
   "execution_count": 3,
   "id": "b3aa6e83",
   "metadata": {},
   "outputs": [
    {
     "data": {
      "text/plain": [
       "33"
      ]
     },
     "execution_count": 3,
     "metadata": {},
     "output_type": "execute_result"
    }
   ],
   "source": [
    "### slicing ####\n",
    "nums=[11,22,33,44,55,66,77,88.99,100]\n",
    "nums[2]"
   ]
  },
  {
   "cell_type": "code",
   "execution_count": 4,
   "id": "38654d9d",
   "metadata": {},
   "outputs": [],
   "source": [
    "nums2=nums[:]\n"
   ]
  },
  {
   "cell_type": "code",
   "execution_count": 5,
   "id": "95d52b8c",
   "metadata": {},
   "outputs": [
    {
     "data": {
      "text/plain": [
       "[11, 22, 33, 44, 55, 66, 77, 88.99, 100]"
      ]
     },
     "execution_count": 5,
     "metadata": {},
     "output_type": "execute_result"
    }
   ],
   "source": [
    "nums2"
   ]
  },
  {
   "cell_type": "code",
   "execution_count": 7,
   "id": "77e8a435",
   "metadata": {},
   "outputs": [],
   "source": [
    "nums3=nums[2:5]"
   ]
  },
  {
   "cell_type": "code",
   "execution_count": 8,
   "id": "ad5e9743",
   "metadata": {},
   "outputs": [
    {
     "data": {
      "text/plain": [
       "[33, 44, 55]"
      ]
     },
     "execution_count": 8,
     "metadata": {},
     "output_type": "execute_result"
    }
   ],
   "source": [
    "nums3"
   ]
  },
  {
   "cell_type": "code",
   "execution_count": 6,
   "id": "c27cd302",
   "metadata": {},
   "outputs": [
    {
     "data": {
      "text/plain": [
       "([11, 22, 33, 44, 55, 66], [11, 22, 33, 44, 55, 66])"
      ]
     },
     "execution_count": 6,
     "metadata": {},
     "output_type": "execute_result"
    }
   ],
   "source": [
    "nums[0:6],nums[:6]"
   ]
  },
  {
   "cell_type": "code",
   "execution_count": 7,
   "id": "8b7dab7e",
   "metadata": {},
   "outputs": [
    {
     "data": {
      "text/plain": [
       "([11, 22, 33, 44], [11, 22, 33, 44, 55])"
      ]
     },
     "execution_count": 7,
     "metadata": {},
     "output_type": "execute_result"
    }
   ],
   "source": [
    "nums[0:4],nums[:5]"
   ]
  },
  {
   "cell_type": "code",
   "execution_count": 8,
   "id": "dfc2bc58",
   "metadata": {},
   "outputs": [
    {
     "data": {
      "text/plain": [
       "([77, 88.99, 100], [77, 88.99, 100], [77, 88.99])"
      ]
     },
     "execution_count": 8,
     "metadata": {},
     "output_type": "execute_result"
    }
   ],
   "source": [
    "nums[6:9],nums[6:],nums[6:-1]"
   ]
  },
  {
   "cell_type": "code",
   "execution_count": 9,
   "id": "6de3b91d",
   "metadata": {},
   "outputs": [
    {
     "data": {
      "text/plain": [
       "[77, 88.99, 100]"
      ]
     },
     "execution_count": 9,
     "metadata": {},
     "output_type": "execute_result"
    }
   ],
   "source": [
    "nums[6:300]"
   ]
  },
  {
   "cell_type": "code",
   "execution_count": 14,
   "id": "97f68989",
   "metadata": {},
   "outputs": [
    {
     "data": {
      "text/plain": [
       "([77, 88.99, 100], [77, 88.99], [77, 88.99, 100])"
      ]
     },
     "execution_count": 14,
     "metadata": {},
     "output_type": "execute_result"
    }
   ],
   "source": [
    "nums[6:9],nums[6:-1],nums[6:]"
   ]
  },
  {
   "cell_type": "code",
   "execution_count": 10,
   "id": "fcf66993",
   "metadata": {},
   "outputs": [
    {
     "data": {
      "text/plain": [
       "[11, 22, 33, 44, 55, 66, 77, 88.99, 100]"
      ]
     },
     "execution_count": 10,
     "metadata": {},
     "output_type": "execute_result"
    }
   ],
   "source": [
    "nums"
   ]
  },
  {
   "cell_type": "code",
   "execution_count": 11,
   "id": "337fd18a",
   "metadata": {},
   "outputs": [
    {
     "data": {
      "text/plain": [
       "[]"
      ]
     },
     "execution_count": 11,
     "metadata": {},
     "output_type": "execute_result"
    }
   ],
   "source": [
    "nums[-1:-6]"
   ]
  },
  {
   "cell_type": "code",
   "execution_count": 17,
   "id": "abe68edf",
   "metadata": {},
   "outputs": [
    {
     "data": {
      "text/plain": [
       "[11, 33, 55, 77]"
      ]
     },
     "execution_count": 17,
     "metadata": {},
     "output_type": "execute_result"
    }
   ],
   "source": [
    "nums[0:8:2]"
   ]
  },
  {
   "cell_type": "code",
   "execution_count": 12,
   "id": "ba038def",
   "metadata": {},
   "outputs": [
    {
     "data": {
      "text/plain": [
       "[11, 44, 77]"
      ]
     },
     "execution_count": 12,
     "metadata": {},
     "output_type": "execute_result"
    }
   ],
   "source": [
    "nums[::3]"
   ]
  },
  {
   "cell_type": "code",
   "execution_count": 19,
   "id": "53543c36",
   "metadata": {},
   "outputs": [
    {
     "data": {
      "text/plain": [
       "[11, 22, 33, 44, 55, 66, 77, 88.99, 100]"
      ]
     },
     "execution_count": 19,
     "metadata": {},
     "output_type": "execute_result"
    }
   ],
   "source": [
    "nums\n"
   ]
  },
  {
   "cell_type": "code",
   "execution_count": 13,
   "id": "1f1d4ff5",
   "metadata": {},
   "outputs": [
    {
     "data": {
      "text/plain": [
       "[100, 88.99, 77, 66, 55, 44, 33, 22, 11]"
      ]
     },
     "execution_count": 13,
     "metadata": {},
     "output_type": "execute_result"
    }
   ],
   "source": [
    "nums[::-1]"
   ]
  },
  {
   "cell_type": "code",
   "execution_count": 14,
   "id": "1dafc249",
   "metadata": {},
   "outputs": [
    {
     "data": {
      "text/plain": [
       "[44, 33, 22, 11]"
      ]
     },
     "execution_count": 14,
     "metadata": {},
     "output_type": "execute_result"
    }
   ],
   "source": [
    "nums[3::-1]"
   ]
  },
  {
   "cell_type": "code",
   "execution_count": 15,
   "id": "9475e06d",
   "metadata": {},
   "outputs": [
    {
     "data": {
      "text/plain": [
       "[77, 66, 55]"
      ]
     },
     "execution_count": 15,
     "metadata": {},
     "output_type": "execute_result"
    }
   ],
   "source": [
    "nums[6:3:-1]"
   ]
  },
  {
   "cell_type": "code",
   "execution_count": 16,
   "id": "7ae01f04",
   "metadata": {},
   "outputs": [
    {
     "data": {
      "text/plain": [
       "[11, 33, 55, 77, 100]"
      ]
     },
     "execution_count": 16,
     "metadata": {},
     "output_type": "execute_result"
    }
   ],
   "source": [
    "nums[0:10:2]"
   ]
  },
  {
   "cell_type": "code",
   "execution_count": 17,
   "id": "2efbffe5",
   "metadata": {},
   "outputs": [
    {
     "data": {
      "text/plain": [
       "[11, 33, 55, 77]"
      ]
     },
     "execution_count": 17,
     "metadata": {},
     "output_type": "execute_result"
    }
   ],
   "source": [
    "nums[0:8:2]"
   ]
  },
  {
   "cell_type": "code",
   "execution_count": 18,
   "id": "66bd2272",
   "metadata": {},
   "outputs": [
    {
     "data": {
      "text/plain": [
       "[11, 22, 33, 44, 55, 66, 77, 88.99, 100]"
      ]
     },
     "execution_count": 18,
     "metadata": {},
     "output_type": "execute_result"
    }
   ],
   "source": [
    "nums"
   ]
  },
  {
   "cell_type": "code",
   "execution_count": 19,
   "id": "18549b86",
   "metadata": {},
   "outputs": [
    {
     "data": {
      "text/plain": [
       "[100, 88.99, 77, 66, 55, 44, 33, 22, 11]"
      ]
     },
     "execution_count": 19,
     "metadata": {},
     "output_type": "execute_result"
    }
   ],
   "source": [
    "nums[::-1]"
   ]
  },
  {
   "cell_type": "code",
   "execution_count": 20,
   "id": "a21cfad1",
   "metadata": {},
   "outputs": [
    {
     "data": {
      "text/plain": [
       "[77, 66, 55]"
      ]
     },
     "execution_count": 20,
     "metadata": {},
     "output_type": "execute_result"
    }
   ],
   "source": [
    "nums[6:3:-1]"
   ]
  },
  {
   "cell_type": "code",
   "execution_count": 21,
   "id": "a80f6dde",
   "metadata": {},
   "outputs": [
    {
     "data": {
      "text/plain": [
       "[]"
      ]
     },
     "execution_count": 21,
     "metadata": {},
     "output_type": "execute_result"
    }
   ],
   "source": [
    "nums\n",
    "nums[-4:7:-1]"
   ]
  },
  {
   "cell_type": "code",
   "execution_count": 22,
   "id": "80fbf5d7",
   "metadata": {},
   "outputs": [
    {
     "data": {
      "text/plain": [
       "[66, 77, 88.99]"
      ]
     },
     "execution_count": 22,
     "metadata": {},
     "output_type": "execute_result"
    }
   ],
   "source": [
    "nums[-4:-1]"
   ]
  },
  {
   "cell_type": "code",
   "execution_count": 23,
   "id": "e743f891",
   "metadata": {},
   "outputs": [
    {
     "data": {
      "text/plain": [
       "[11, 22, 33, 44, 55, 66, 77, 88.99, 100]"
      ]
     },
     "execution_count": 23,
     "metadata": {},
     "output_type": "execute_result"
    }
   ],
   "source": [
    "nums\n"
   ]
  },
  {
   "cell_type": "code",
   "execution_count": 24,
   "id": "772b686a",
   "metadata": {},
   "outputs": [
    {
     "data": {
      "text/plain": [
       "[100]"
      ]
     },
     "execution_count": 24,
     "metadata": {},
     "output_type": "execute_result"
    }
   ],
   "source": [
    "nums[-1::-9]"
   ]
  },
  {
   "cell_type": "code",
   "execution_count": 25,
   "id": "972acecf",
   "metadata": {},
   "outputs": [
    {
     "data": {
      "text/plain": [
       "[11]"
      ]
     },
     "execution_count": 25,
     "metadata": {},
     "output_type": "execute_result"
    }
   ],
   "source": [
    "nums[::9]"
   ]
  },
  {
   "cell_type": "code",
   "execution_count": 70,
   "id": "0e621591",
   "metadata": {},
   "outputs": [],
   "source": [
    "# tuple\n",
    "\n",
    "tup=(2,3,4,5,6,8,7)\n",
    "\n",
    "#imutable"
   ]
  },
  {
   "cell_type": "code",
   "execution_count": 71,
   "id": "7c3512c4",
   "metadata": {},
   "outputs": [
    {
     "data": {
      "text/plain": [
       "tuple"
      ]
     },
     "execution_count": 71,
     "metadata": {},
     "output_type": "execute_result"
    }
   ],
   "source": [
    "type(tup)"
   ]
  },
  {
   "cell_type": "code",
   "execution_count": 72,
   "id": "6701c22b",
   "metadata": {},
   "outputs": [
    {
     "data": {
      "text/plain": [
       "2"
      ]
     },
     "execution_count": 72,
     "metadata": {},
     "output_type": "execute_result"
    }
   ],
   "source": [
    "tup[0]"
   ]
  },
  {
   "cell_type": "code",
   "execution_count": 74,
   "id": "6a056404",
   "metadata": {},
   "outputs": [
    {
     "data": {
      "text/plain": [
       "(5, 6, 8, 7)"
      ]
     },
     "execution_count": 74,
     "metadata": {},
     "output_type": "execute_result"
    }
   ],
   "source": [
    "tup[3:7]"
   ]
  },
  {
   "cell_type": "code",
   "execution_count": 75,
   "id": "96e5166a",
   "metadata": {},
   "outputs": [],
   "source": [
    "aset={1,2,3,4,5,3,4,5}"
   ]
  },
  {
   "cell_type": "code",
   "execution_count": 76,
   "id": "0ad850da",
   "metadata": {},
   "outputs": [
    {
     "data": {
      "text/plain": [
       "set"
      ]
     },
     "execution_count": 76,
     "metadata": {},
     "output_type": "execute_result"
    }
   ],
   "source": [
    "type(aset)"
   ]
  },
  {
   "cell_type": "code",
   "execution_count": 77,
   "id": "9a1c91a9",
   "metadata": {},
   "outputs": [
    {
     "data": {
      "text/plain": [
       "{1, 2, 3, 4, 5}"
      ]
     },
     "execution_count": 77,
     "metadata": {},
     "output_type": "execute_result"
    }
   ],
   "source": [
    "aset"
   ]
  },
  {
   "cell_type": "code",
   "execution_count": 85,
   "id": "4d3405e2",
   "metadata": {},
   "outputs": [],
   "source": [
    "alist=[1,2,3,4,5,62,3,4,5]\n"
   ]
  },
  {
   "cell_type": "code",
   "execution_count": 86,
   "id": "14f43677",
   "metadata": {},
   "outputs": [
    {
     "data": {
      "text/plain": [
       "list"
      ]
     },
     "execution_count": 86,
     "metadata": {},
     "output_type": "execute_result"
    }
   ],
   "source": [
    "type(alist)"
   ]
  },
  {
   "cell_type": "code",
   "execution_count": 87,
   "id": "4dd243c4",
   "metadata": {},
   "outputs": [
    {
     "ename": "TypeError",
     "evalue": "'set' object is not callable",
     "output_type": "error",
     "traceback": [
      "\u001b[1;31m---------------------------------------------------------------------------\u001b[0m",
      "\u001b[1;31mTypeError\u001b[0m                                 Traceback (most recent call last)",
      "\u001b[1;32m<ipython-input-87-d9d7edb018b3>\u001b[0m in \u001b[0;36m<module>\u001b[1;34m\u001b[0m\n\u001b[1;32m----> 1\u001b[1;33m \u001b[0mlist\u001b[0m\u001b[1;33m(\u001b[0m\u001b[0mset\u001b[0m\u001b[1;33m(\u001b[0m\u001b[0malist\u001b[0m\u001b[1;33m)\u001b[0m\u001b[1;33m)\u001b[0m\u001b[1;33m\u001b[0m\u001b[1;33m\u001b[0m\u001b[0m\n\u001b[0m",
      "\u001b[1;31mTypeError\u001b[0m: 'set' object is not callable"
     ]
    }
   ],
   "source": [
    "list(set(alist))"
   ]
  },
  {
   "cell_type": "code",
   "execution_count": 44,
   "id": "550a8905",
   "metadata": {},
   "outputs": [],
   "source": [
    "bset={61,62,63,64,3,4,5,6}"
   ]
  },
  {
   "cell_type": "code",
   "execution_count": 45,
   "id": "ad319d6e",
   "metadata": {},
   "outputs": [
    {
     "data": {
      "text/plain": [
       "set"
      ]
     },
     "execution_count": 45,
     "metadata": {},
     "output_type": "execute_result"
    }
   ],
   "source": [
    "type(bset)"
   ]
  },
  {
   "cell_type": "code",
   "execution_count": 46,
   "id": "ff7c6dcf",
   "metadata": {},
   "outputs": [
    {
     "data": {
      "text/plain": [
       "{3, 4, 5, 6, 61, 62, 63, 64}"
      ]
     },
     "execution_count": 46,
     "metadata": {},
     "output_type": "execute_result"
    }
   ],
   "source": [
    "bset"
   ]
  },
  {
   "cell_type": "code",
   "execution_count": 64,
   "id": "2619938f",
   "metadata": {},
   "outputs": [
    {
     "data": {
      "text/plain": [
       "{1, 2, 3, 4, 5}"
      ]
     },
     "execution_count": 64,
     "metadata": {},
     "output_type": "execute_result"
    }
   ],
   "source": [
    "aset"
   ]
  }
 ],
 "metadata": {
  "kernelspec": {
   "display_name": "Python 3",
   "language": "python",
   "name": "python3"
  },
  "language_info": {
   "codemirror_mode": {
    "name": "ipython",
    "version": 3
   },
   "file_extension": ".py",
   "mimetype": "text/x-python",
   "name": "python",
   "nbconvert_exporter": "python",
   "pygments_lexer": "ipython3",
   "version": "3.8.8"
  }
 },
 "nbformat": 4,
 "nbformat_minor": 5
}
